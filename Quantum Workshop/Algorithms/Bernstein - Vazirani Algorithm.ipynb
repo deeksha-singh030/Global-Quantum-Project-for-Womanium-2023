{
 "cells": [
  {
   "cell_type": "markdown",
   "id": "de54f0af",
   "metadata": {},
   "source": [
    "# Bernstein - Vazirani Algorithm\n",
    "\n",
    "  - Extension of Deutsch Jozsa Algorithm.\n",
    "  - It includes a black box oracle function which takes input as a string of bits and returns either 0 or 1.\n",
    "  - Function is guaranteed to return the bitwise product of the input with some string s.\n",
    "  - Aim:To find the hidden bit string."
   ]
  },
  {
   "cell_type": "markdown",
   "id": "f3073dac",
   "metadata": {},
   "source": [
    "## Generalised Circuit\n",
    " \n",
    "  - First I'll create functions for oracle and the algorithm itself.\n",
    "  - Then verify it for n = 4."
   ]
  },
  {
   "cell_type": "code",
   "execution_count": 1,
   "id": "7ad531e3",
   "metadata": {},
   "outputs": [],
   "source": [
    "# importing according to the requirements\n",
    "%matplotlib inline\n",
    "import numpy as np\n",
    "from qiskit import IBMQ, Aer\n",
    "from qiskit.providers.ibmq import least_busy\n",
    "from qiskit import QuantumCircuit, QuantumRegister, transpile, assemble\n",
    "from qiskit.visualization import plot_histogram\n",
    "from qiskit import *"
   ]
  },
  {
   "cell_type": "markdown",
   "id": "bb16528e",
   "metadata": {},
   "source": [
    "### Oracle Ciruit"
   ]
  },
  {
   "cell_type": "code",
   "execution_count": 2,
   "id": "09e17d12",
   "metadata": {},
   "outputs": [],
   "source": [
    "def Bv_oracle(n):\n",
    "    \n",
    "    # Quantum Circuit of oracle is supposed to be returned.\n",
    "    # Oracle Circuit will consist of n + 1 qubits (n for input register and one for output register\n",
    "    oracleCircuit = QuantumCircuit(n + 1)\n",
    "    \n",
    "    # generate a random number which tells us how to wrap gates in oracle\n",
    "    b = np.random.randint(1, 2**n)\n",
    "    # now format 'ranNum' as a binary string of length n padded with zeros\n",
    "    b_str = format(b, '0' + str(n) + 'b')\n",
    "    # now reversing the string to fit qiskit's order\n",
    "    b_str = b_str[: : -1]\n",
    "    \n",
    "    # from here oracle circuit actually starts \n",
    "    for qubit in range(n):\n",
    "        if b_str[qubit] == '0':\n",
    "            oracleCircuit.i(qubit)\n",
    "        else:\n",
    "            oracleCircuit.cx(qubit, n)\n",
    "    # returning oracle\n",
    "    oracleGate = oracleCircuit.to_gate()\n",
    "    oracleGate.name = \"Oracle\" # name for display in circuit\n",
    "    return oracleGate    "
   ]
  },
  {
   "cell_type": "markdown",
   "id": "764b28f1",
   "metadata": {},
   "source": [
    "### Function for Bernstein-Vazirani Algo"
   ]
  },
  {
   "cell_type": "code",
   "execution_count": 3,
   "id": "1872c01b",
   "metadata": {},
   "outputs": [],
   "source": [
    "def bv_circuit(oracle, n):\n",
    "    bv_circuit = QuantumCircuit(n + 1, n)\n",
    "    # for to set output bit\n",
    "    bv_circuit.h(n)\n",
    "    bv_circuit.z(n)\n",
    "    \n",
    "    # adding Hadamard gate to the input register\n",
    "    for qubit in range(n):\n",
    "        bv_circuit.h(qubit)\n",
    "    # barrier \n",
    "    bv_circuit.barrier()\n",
    "    # add oracle to Bernstein Vazirani Circuit\n",
    "    bv_circuit.append(oracle, range(n + 1))\n",
    "    bv_circuit.barrier()\n",
    "    # finally perform gates in reverse order and measure\n",
    "    for qubit in range(n):\n",
    "        bv_circuit.h(qubit)\n",
    "    bv_circuit.barrier()\n",
    "    # measure\n",
    "    for i in range(n):\n",
    "        bv_circuit.measure(i,i)\n",
    "    return bv_circuit    "
   ]
  },
  {
   "cell_type": "markdown",
   "id": "5209b1f7",
   "metadata": {},
   "source": [
    "### Applying Bernstein algo for n = 4"
   ]
  },
  {
   "cell_type": "code",
   "execution_count": 4,
   "id": "36e99733",
   "metadata": {},
   "outputs": [
    {
     "data": {
      "image/png": "[encoded data removed]",
      "text/plain": [
       "<Figure size 808.997x385.28 with 1 Axes>"
      ]
     },
     "execution_count": 4,
     "metadata": {},
     "output_type": "execute_result"
    }
   ],
   "source": [
    "n = 4\n",
    "oracle_gate = Bv_oracle(n)\n",
    "bv_circuit = bv_circuit(oracle_gate, n)\n",
    "bv_circuit.draw(output = 'mpl')"
   ]
  },
  {
   "cell_type": "markdown",
   "id": "79012e4a",
   "metadata": {},
   "source": [
    "### Result on a simulator"
   ]
  },
  {
   "cell_type": "code",
   "execution_count": 5,
   "id": "0cdd0875",
   "metadata": {},
   "outputs": [
    {
     "data": {
      "image/png": "[encoded data removed]",
      "text/plain": [
       "<Figure size 504x360 with 1 Axes>"
      ]
     },
     "execution_count": 5,
     "metadata": {},
     "output_type": "execute_result"
    }
   ],
   "source": [
    "aer_sim = Aer.get_backend('aer_simulator')\n",
    "transpiled_bv_circuit = transpile(bv_circuit, aer_sim)\n",
    "qobj = assemble(transpiled_bv_circuit)\n",
    "results = aer_sim.run(qobj).result()\n",
    "answer = results.get_counts()\n",
    "plot_histogram(answer)"
   ]
  },
  {
   "cell_type": "markdown",
   "id": "debc76bf",
   "metadata": {},
   "source": [
    "finally we are getting our randomly generated string with hundred percent probability."
   ]
  },
  {
   "cell_type": "markdown",
   "id": "ac7feb93",
   "metadata": {},
   "source": [
    "### Experiment with real device"
   ]
  },
  {
   "cell_type": "code",
   "execution_count": 7,
   "id": "a5f47f46",
   "metadata": {},
   "outputs": [
    {
     "name": "stderr",
     "output_type": "stream",
     "text": [
      "ibmqfactory.load_account:WARNING:2021-09-18 12:27:45,660: Credentials are already in use. The existing account in the session will be replaced.\n"
     ]
    }
   ],
   "source": [
    "IBMQ.load_account()\n",
    "provider = IBMQ.get_provider('ibm-q')\n",
    "qcomp = provider.get_backend('ibmq_quito')\n",
    "job = execute(bv_circuit, backend = qcomp)"
   ]
  },
  {
   "cell_type": "code",
   "execution_count": 8,
   "id": "e52869f8",
   "metadata": {},
   "outputs": [
    {
     "name": "stdout",
     "output_type": "stream",
     "text": [
      "Job Status: job has successfully run\n"
     ]
    },
    {
     "data": {
      "text/plain": [
       "'\"\\nshots = 1024\\ntranspiled_bv_circuit = transpile(bv_circuit, backend, optimization_level = 3)\\njob = backend.run(transpiled_bv_circuit)\\njob_monitor(job, interval = 2)'"
      ]
     },
     "execution_count": 8,
     "metadata": {},
     "output_type": "execute_result"
    }
   ],
   "source": [
    "from qiskit.tools.monitor import job_monitor\n",
    "# to monitor the execution of job in the queue\n",
    "job_monitor(job, interval = 2)"
   ]
  },
  {
   "cell_type": "code",
   "execution_count": 9,
   "id": "2cea96a6",
   "metadata": {},
   "outputs": [
    {
     "data": {
      "image/png": "[encoded data removed]",
      "text/plain": [
       "<Figure size 504x360 with 1 Axes>"
      ]
     },
     "execution_count": 9,
     "metadata": {},
     "output_type": "execute_result"
    }
   ],
   "source": [
    "# Get the results of the computation\n",
    "results = job.result()\n",
    "answer = results.get_counts()\n",
    "plot_histogram(answer)"
   ]
  },
  {
   "cell_type": "markdown",
   "id": "f99dd68e",
   "metadata": {},
   "source": [
    "So finally as expected we get the result string 1011 with max probability as expected.We re getting results for other strings because of errors in quantum computing."
   ]
  },
  {
   "cell_type": "code",
   "execution_count": null,
   "id": "359db6c8",
   "metadata": {},
   "outputs": [],
   "source": []
  }
 ],
 "metadata": {
  "kernelspec": {
   "display_name": "Python 3 (ipykernel)",
   "language": "python",
   "name": "python3"
  },
  "language_info": {
   "codemirror_mode": {
    "name": "ipython",
    "version": 3
   },
   "file_extension": ".py",
   "mimetype": "text/x-python",
   "name": "python",
   "nbconvert_exporter": "python",
   "pygments_lexer": "ipython3",
   "version": "3.11.3"
  }
 },
 "nbformat": 4,
 "nbformat_minor": 5
}
