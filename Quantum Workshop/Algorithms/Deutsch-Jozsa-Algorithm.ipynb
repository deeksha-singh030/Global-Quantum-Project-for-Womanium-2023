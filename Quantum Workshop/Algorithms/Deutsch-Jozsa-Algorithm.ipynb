{
 "cells": [
  {
   "cell_type": "markdown",
   "id": "3a28b021",
   "metadata": {},
   "source": [
    "# Deutsch-Jozsa-Algorithm"
   ]
  },
  {
   "cell_type": "code",
   "execution_count": 1,
   "id": "280b0b8a",
   "metadata": {},
   "outputs": [],
   "source": [
    "#initialization\n",
    "# all files according to the requirement are imported here\n",
    "import numpy as np\n",
    "from qiskit import IBMQ, Aer\n",
    "from qiskit import QuantumCircuit, assemble, transpile\n",
    "from qiskit.visualization import plot_histogram\n",
    "from qiskit.providers.ibmq import least_busy\n",
    "%matplotlib inline"
   ]
  },
  {
   "cell_type": "markdown",
   "id": "5cac65d4",
   "metadata": {},
   "source": [
    "## Generalised Circuit\n",
    "First we'll see general circuit and then one particular example will be used:"
   ]
  },
  {
   "cell_type": "markdown",
   "id": "9eaa3aa1",
   "metadata": {},
   "source": [
    "### Oracle-Circuit"
   ]
  },
  {
   "cell_type": "code",
   "execution_count": 2,
   "id": "12b845da",
   "metadata": {},
   "outputs": [],
   "source": [
    "# num is the length of input register\n",
    "def DeutschJozsaOracle(case, n):\n",
    "    # Quantum Circuit of oracle is supposed to be returned\n",
    "    # Oracle circuit consist of n + 1 qubits (n-> input register, 1-> output register)\n",
    "    \n",
    "    oracleCircuit = QuantumCircuit(n + 1)\n",
    "    \n",
    "    # First consider the case for balanced oracle\n",
    "    \n",
    "    if case == \"balanced\":\n",
    "        # generate a random number that tells us which CNOTs to wrap in X-gates\n",
    "        b = np.random.randint(1, 2**n)\n",
    "        # now format 'ranNum' as a binary string of length n padded with zeros\n",
    "        b_str = format(b, '0'+ str(n)+'b')\n",
    "        # now corresponding to qubit if a digit in ranNum_str i s '1' apply X-gate in that qubit\n",
    "        for qubit in range(len(b_str)):\n",
    "            if b_str[qubit] == '1':\n",
    "                oracleCircuit.x(qubit)\n",
    "        # apply CNOT gates for each qubit taking control itself and target to output qubit\n",
    "        for qubit in range(n):\n",
    "            oracleCircuit.cx(qubit, n)\n",
    "        # now apply the X-gates\n",
    "        for qubit in range(len(b_str)):\n",
    "            if b_str[qubit] =='1':\n",
    "                oracleCircuit.x(qubit)\n",
    "                \n",
    "    # Now consider for constant oracle\n",
    "    if case == \"constant\":\n",
    "        # decide the fixed output of the oracle as either 0 or 1\n",
    "        output = np.random.randint(2)\n",
    "        if output == 1:\n",
    "            oracleCircuit.x(n)\n",
    "            \n",
    "    oracleGate = oracleCircuit.to_gate()\n",
    "    oracleGate.name = \"Oracle\" # to show while displaying circuit\n",
    "    return oracleGate"
   ]
  },
  {
   "cell_type": "markdown",
   "id": "03ea3a90",
   "metadata": {},
   "source": [
    "### Applying Deutsch - Jozsa - Algo"
   ]
  },
  {
   "cell_type": "code",
   "execution_count": 3,
   "id": "8f4f151f",
   "metadata": {},
   "outputs": [],
   "source": [
    "def DeutschJozsaAlgo(oracle, n):\n",
    "    dj_circuit = QuantumCircuit(n + 1, n)\n",
    "    # set the output qubit:\n",
    "    dj_circuit.x(n)\n",
    "    dj_circuit.h(n)\n",
    "    # Setting up input registers\n",
    "    for qubit in range(n):\n",
    "        dj_circuit.h(qubit)\n",
    "    # Append Oracle to our circuit\n",
    "    dj_circuit.append(oracle, range(n + 1))\n",
    "    # Finally perform the H-gates again and measure:\n",
    "    for qubit in range(n):\n",
    "        dj_circuit.h(qubit)\n",
    "        \n",
    "    for i in range(n):\n",
    "        dj_circuit.measure(i, i)\n",
    "    return dj_circuit    "
   ]
  },
  {
   "cell_type": "markdown",
   "id": "d65e9f71",
   "metadata": {},
   "source": [
    "### Using above function to apply DJ algo for n = 4"
   ]
  },
  {
   "cell_type": "code",
   "execution_count": 4,
   "id": "5659efe3",
   "metadata": {},
   "outputs": [
    {
     "data": {
      "image/png": "[encoded data removed]",
      "text/plain": [
       "<Figure size 628.397x385.28 with 1 Axes>"
      ]
     },
     "execution_count": 4,
     "metadata": {},
     "output_type": "execute_result"
    }
   ],
   "source": [
    "n = 4\n",
    "oracle_gate = DeutschJozsaOracle('balanced', n)\n",
    "dj_circuit = DeutschJozsaAlgo(oracle_gate, n)\n",
    "dj_circuit.draw(output = 'mpl')"
   ]
  },
  {
   "cell_type": "markdown",
   "id": "988e58d6",
   "metadata": {},
   "source": [
    "### Result on a simulator"
   ]
  },
  {
   "cell_type": "code",
   "execution_count": 5,
   "id": "2f12c8a7",
   "metadata": {},
   "outputs": [
    {
     "data": {
      "image/png": "[encoded data removed]",
      "text/plain": [
       "<Figure size 504x360 with 1 Axes>"
      ]
     },
     "execution_count": 5,
     "metadata": {},
     "output_type": "execute_result"
    }
   ],
   "source": [
    "aer_sim = Aer.get_backend('aer_simulator')\n",
    "transpiled_dj_circuit = transpile(dj_circuit, aer_sim)\n",
    "qobj = assemble(transpiled_dj_circuit)\n",
    "results = aer_sim.run(qobj).result()\n",
    "answer = results.get_counts()\n",
    "plot_histogram(answer)"
   ]
  },
  {
   "cell_type": "markdown",
   "id": "9936af52",
   "metadata": {},
   "source": [
    "### Experiment with real device"
   ]
  },
  {
   "cell_type": "code",
   "execution_count": 6,
   "id": "6250986b",
   "metadata": {},
   "outputs": [
    {
     "data": {
      "text/plain": [
       "<AccountProvider for IBMQ(hub='ibm-q', group='open', project='main')>"
      ]
     },
     "execution_count": 6,
     "metadata": {},
     "output_type": "execute_result"
    }
   ],
   "source": [
    "IBMQ.load_account()"
   ]
  },
  {
   "cell_type": "code",
   "execution_count": 8,
   "id": "79a1a2ff",
   "metadata": {},
   "outputs": [
    {
     "name": "stdout",
     "output_type": "stream",
     "text": [
      "least busy backend:  ibmq_belem\n"
     ]
    }
   ],
   "source": [
    "provider = IBMQ.get_provider('ibm-q')\n",
    "backend = least_busy(provider.backends(filters = lambda x: x.configuration().n_qubits >= (n+1) and\n",
    "                                   not x.configuration().simulator and x.status().operational == True))\n",
    "print(\"least busy backend: \", backend)"
   ]
  },
  {
   "cell_type": "code",
   "execution_count": 9,
   "id": "b2e63f7d",
   "metadata": {},
   "outputs": [
    {
     "name": "stdout",
     "output_type": "stream",
     "text": [
      "Job Status: job has successfully run\n"
     ]
    }
   ],
   "source": [
    "from qiskit.tools.monitor import job_monitor\n",
    "# to monitor the execution of job in the queue\n",
    "shots = 1024\n",
    "transpiled_dj_circuit = transpile(dj_circuit, backend, optimization_level = 3)\n",
    "job = backend.run(transpiled_dj_circuit)\n",
    "job_monitor(job, interval=2)"
   ]
  },
  {
   "cell_type": "code",
   "execution_count": 10,
   "id": "b6613054",
   "metadata": {},
   "outputs": [
    {
     "data": {
      "image/png": "[encoded data removed]",
      "text/plain": [
       "<Figure size 504x360 with 1 Axes>"
      ]
     },
     "execution_count": 10,
     "metadata": {},
     "output_type": "execute_result"
    }
   ],
   "source": [
    "# Get the results of the computation\n",
    "results = job.result()\n",
    "answer = results.get_counts()\n",
    "plot_histogram(answer)"
   ]
  },
  {
   "cell_type": "markdown",
   "id": "5e359dc0",
   "metadata": {},
   "source": [
    "Most likely result is 1111 and the other results are due to error in quantum computing."
   ]
  }
 ],
 "metadata": {
  "kernelspec": {
   "display_name": "Python 3 (ipykernel)",
   "language": "python",
   "name": "python3"
  },
  "language_info": {
   "codemirror_mode": {
    "name": "ipython",
    "version": 3
   },
   "file_extension": ".py",
   "mimetype": "text/x-python",
   "name": "python",
   "nbconvert_exporter": "python",
   "pygments_lexer": "ipython3",
   "version": "3.11.3"
  }
 },
 "nbformat": 4,
 "nbformat_minor": 5
}
